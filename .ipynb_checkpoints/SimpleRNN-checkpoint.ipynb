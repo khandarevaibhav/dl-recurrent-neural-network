{
 "cells": [
  {
   "cell_type": "markdown",
   "id": "ea36880b",
   "metadata": {},
   "source": [
    "# /*******************************************************\n",
    "* Copyright         : 2022 Vaibhav Khandare\n",
    "* Description       : RNN task :- Recurrent neural networks recognize data's sequential characteristics and use patterns to predict the next likely scenario. \n",
    "*                    \n",
    "* Revision History  :\n",
    "* \t\tAuthor \t\t\n",
    "        Vaibhav Khandare \n",
    "* ------------------------------------------------------------------\n",
    "/******************************************************************/"
   ]
  },
  {
   "cell_type": "code",
   "execution_count": null,
   "id": "b11e704e",
   "metadata": {},
   "outputs": [],
   "source": [
    "import numpy as np"
   ]
  },
  {
   "cell_type": "code",
   "execution_count": 2,
   "id": "f3a1741e",
   "metadata": {},
   "outputs": [],
   "source": [
    "import matplotlib.pyplot  as  plt"
   ]
  },
  {
   "cell_type": "code",
   "execution_count": 3,
   "id": "1614ed12",
   "metadata": {},
   "outputs": [],
   "source": [
    "time = np.arange(0,1500)"
   ]
  },
  {
   "cell_type": "code",
   "execution_count": 4,
   "id": "45c1dd72",
   "metadata": {},
   "outputs": [
    {
     "data": {
      "text/plain": [
       "(1500,)"
      ]
     },
     "execution_count": 4,
     "metadata": {},
     "output_type": "execute_result"
    }
   ],
   "source": [
    "time.shape"
   ]
  },
  {
   "cell_type": "code",
   "execution_count": 27,
   "id": "e33666b5",
   "metadata": {},
   "outputs": [],
   "source": [
    "ytarget = np.sin(0.02  *  time)  +  np.random.uniform(low=-1,   high=1, size=(1500,))\n"
   ]
  },
  {
   "cell_type": "code",
   "execution_count": 28,
   "id": "366c4a42",
   "metadata": {},
   "outputs": [],
   "source": [
    "y = np.sin(0.02  *  time)"
   ]
  },
  {
   "cell_type": "code",
   "execution_count": 29,
   "id": "6bbe1374",
   "metadata": {},
   "outputs": [
    {
     "data": {
      "text/plain": [
       "<matplotlib.lines.Line2D at 0x2228cde40a0>"
      ]
     },
     "execution_count": 29,
     "metadata": {},
     "output_type": "execute_result"
    },
    {
     "data": {
      "image/png": "[encoded data removed]",
      "text/plain": [
       "<Figure size 432x288 with 1 Axes>"
      ]
     },
     "metadata": {
      "needs_background": "light"
     },
     "output_type": "display_data"
    }
   ],
   "source": [
    "# \n",
    "plt.plot(ytarget)\n",
    "# plt.plot(y)\n",
    "plt.axvline(1000,  c='r')"
   ]
  },
  {
   "cell_type": "code",
   "execution_count": 30,
   "id": "9026cee8",
   "metadata": {},
   "outputs": [
    {
     "data": {
      "text/plain": [
       "(1500,)"
      ]
     },
     "execution_count": 30,
     "metadata": {},
     "output_type": "execute_result"
    }
   ],
   "source": [
    "ytarget.shape"
   ]
  },
  {
   "cell_type": "code",
   "execution_count": 31,
   "id": "73d8cd26",
   "metadata": {},
   "outputs": [],
   "source": [
    "from sklearn.preprocessing import MinMaxScaler"
   ]
  },
  {
   "cell_type": "code",
   "execution_count": 20,
   "id": "d79112ed",
   "metadata": {},
   "outputs": [],
   "source": [
    "normalizer = MinMaxScaler(feature_range=(0,1 ) ) "
   ]
  },
  {
   "cell_type": "code",
   "execution_count": 32,
   "id": "375c97b5",
   "metadata": {},
   "outputs": [],
   "source": [
    "ytarget_normal = np.reshape(ytarget , (-1,1))"
   ]
  },
  {
   "cell_type": "code",
   "execution_count": 33,
   "id": "a302f02f",
   "metadata": {},
   "outputs": [
    {
     "data": {
      "text/plain": [
       "(1500, 1)"
      ]
     },
     "execution_count": 33,
     "metadata": {},
     "output_type": "execute_result"
    }
   ],
   "source": [
    "ytarget_normal.shape"
   ]
  },
  {
   "cell_type": "code",
   "execution_count": null,
   "id": "f08736db",
   "metadata": {},
   "outputs": [],
   "source": []
  },
  {
   "cell_type": "code",
   "execution_count": 34,
   "id": "23e00c1d",
   "metadata": {},
   "outputs": [],
   "source": [
    "yfinal = normalizer.fit_transform(ytarget_normal)"
   ]
  },
  {
   "cell_type": "code",
   "execution_count": 35,
   "id": "a9ac8bf5",
   "metadata": {},
   "outputs": [
    {
     "data": {
      "text/plain": [
       "(1500, 1)"
      ]
     },
     "execution_count": 35,
     "metadata": {},
     "output_type": "execute_result"
    }
   ],
   "source": [
    "yfinal.shape"
   ]
  },
  {
   "cell_type": "code",
   "execution_count": 36,
   "id": "0473fec5",
   "metadata": {},
   "outputs": [
    {
     "data": {
      "text/plain": [
       "-0.2834027264805983"
      ]
     },
     "execution_count": 36,
     "metadata": {},
     "output_type": "execute_result"
    }
   ],
   "source": [
    "ytarget[0]"
   ]
  },
  {
   "cell_type": "code",
   "execution_count": 37,
   "id": "17d32efd",
   "metadata": {},
   "outputs": [
    {
     "data": {
      "text/plain": [
       "array([0.43033812])"
      ]
     },
     "execution_count": 37,
     "metadata": {},
     "output_type": "execute_result"
    }
   ],
   "source": [
    "yfinal[0]"
   ]
  },
  {
   "cell_type": "code",
   "execution_count": 39,
   "id": "069d6829",
   "metadata": {},
   "outputs": [
    {
     "data": {
      "text/plain": [
       "array([[-0.28340272]])"
      ]
     },
     "execution_count": 39,
     "metadata": {},
     "output_type": "execute_result"
    }
   ],
   "source": [
    "normalizer.inverse_transform([[0.43033812]]  )"
   ]
  },
  {
   "cell_type": "code",
   "execution_count": null,
   "id": "d029f4fe",
   "metadata": {},
   "outputs": [],
   "source": []
  },
  {
   "cell_type": "code",
   "execution_count": null,
   "id": "c540bc95",
   "metadata": {},
   "outputs": [],
   "source": []
  },
  {
   "cell_type": "code",
   "execution_count": 26,
   "id": "9f0b7e3e",
   "metadata": {},
   "outputs": [
    {
     "data": {
      "text/plain": [
       "array([[0.26979211],\n",
       "       [0.3267904 ],\n",
       "       [0.43720622],\n",
       "       ...,\n",
       "       [0.078464  ],\n",
       "       [0.3742708 ],\n",
       "       [0.23726334]])"
      ]
     },
     "execution_count": 26,
     "metadata": {},
     "output_type": "execute_result"
    }
   ],
   "source": [
    "yfinal"
   ]
  },
  {
   "cell_type": "code",
   "execution_count": null,
   "id": "cbef285d",
   "metadata": {},
   "outputs": [],
   "source": []
  },
  {
   "cell_type": "code",
   "execution_count": 40,
   "id": "f2bde8d8",
   "metadata": {},
   "outputs": [],
   "source": [
    "train= yfinal[0:1000]"
   ]
  },
  {
   "cell_type": "code",
   "execution_count": 12,
   "id": "b79a0a65",
   "metadata": {},
   "outputs": [
    {
     "data": {
      "text/plain": [
       "(1000,)"
      ]
     },
     "execution_count": 12,
     "metadata": {},
     "output_type": "execute_result"
    }
   ],
   "source": [
    "train.shape"
   ]
  },
  {
   "cell_type": "code",
   "execution_count": 41,
   "id": "07ec01a8",
   "metadata": {},
   "outputs": [],
   "source": [
    "test= yfinal[1000:]"
   ]
  },
  {
   "cell_type": "code",
   "execution_count": 14,
   "id": "7950ac4c",
   "metadata": {},
   "outputs": [
    {
     "data": {
      "text/plain": [
       "(500,)"
      ]
     },
     "execution_count": 14,
     "metadata": {},
     "output_type": "execute_result"
    }
   ],
   "source": [
    "test.shape"
   ]
  },
  {
   "cell_type": "code",
   "execution_count": 15,
   "id": "b81fcfd5",
   "metadata": {},
   "outputs": [
    {
     "data": {
      "text/plain": [
       "(1000,)"
      ]
     },
     "execution_count": 15,
     "metadata": {},
     "output_type": "execute_result"
    }
   ],
   "source": [
    "train.shape"
   ]
  },
  {
   "cell_type": "code",
   "execution_count": 27,
   "id": "55e9fa4e",
   "metadata": {},
   "outputs": [
    {
     "data": {
      "text/plain": [
       "990"
      ]
     },
     "execution_count": 27,
     "metadata": {},
     "output_type": "execute_result"
    }
   ],
   "source": [
    "len(train) -  10"
   ]
  },
  {
   "cell_type": "code",
   "execution_count": 28,
   "id": "7184d934",
   "metadata": {},
   "outputs": [
    {
     "name": "stdout",
     "output_type": "stream",
     "text": [
      "0\n",
      "1\n",
      "2\n",
      "3\n",
      "4\n"
     ]
    }
   ],
   "source": [
    "for  i   in  range(5):\n",
    "    print(i)"
   ]
  },
  {
   "cell_type": "code",
   "execution_count": 42,
   "id": "108e7c41",
   "metadata": {},
   "outputs": [],
   "source": [
    "def createDS( data  , step):\n",
    "    X = []\n",
    "    y = []\n",
    "    for i in range(len(data) - step):\n",
    "        X.append(data[ i:i+step ])\n",
    "        y.append(data[i+step])\n",
    "    return np.array(X) ,  np.array(y)"
   ]
  },
  {
   "cell_type": "code",
   "execution_count": 43,
   "id": "e163a692",
   "metadata": {},
   "outputs": [],
   "source": [
    "step = 10"
   ]
  },
  {
   "cell_type": "code",
   "execution_count": 44,
   "id": "fe8264bd",
   "metadata": {},
   "outputs": [],
   "source": [
    "trainX, trainY = createDS(train ,  step)"
   ]
  },
  {
   "cell_type": "code",
   "execution_count": 33,
   "id": "be38bc94",
   "metadata": {},
   "outputs": [
    {
     "data": {
      "text/plain": [
       "(990, 10)"
      ]
     },
     "execution_count": 33,
     "metadata": {},
     "output_type": "execute_result"
    }
   ],
   "source": [
    "trainX.shape"
   ]
  },
  {
   "cell_type": "code",
   "execution_count": 34,
   "id": "6f614b2e",
   "metadata": {},
   "outputs": [
    {
     "data": {
      "text/plain": [
       "(990,)"
      ]
     },
     "execution_count": 34,
     "metadata": {},
     "output_type": "execute_result"
    }
   ],
   "source": [
    "trainY.shape"
   ]
  },
  {
   "cell_type": "code",
   "execution_count": 45,
   "id": "534633b6",
   "metadata": {},
   "outputs": [],
   "source": [
    "testX, testY = createDS(test ,  step)"
   ]
  },
  {
   "cell_type": "code",
   "execution_count": 36,
   "id": "00010297",
   "metadata": {},
   "outputs": [
    {
     "data": {
      "text/plain": [
       "(490, 10)"
      ]
     },
     "execution_count": 36,
     "metadata": {},
     "output_type": "execute_result"
    }
   ],
   "source": [
    "testX.shape"
   ]
  },
  {
   "cell_type": "code",
   "execution_count": 38,
   "id": "a47ecbdb",
   "metadata": {},
   "outputs": [
    {
     "data": {
      "text/plain": [
       "(490,)"
      ]
     },
     "execution_count": 38,
     "metadata": {},
     "output_type": "execute_result"
    }
   ],
   "source": [
    "testY.shape"
   ]
  },
  {
   "cell_type": "code",
   "execution_count": 39,
   "id": "6981edb1",
   "metadata": {},
   "outputs": [
    {
     "data": {
      "text/plain": [
       "array([ 0.56811267,  0.49689981, -0.13433078,  0.06156278,  0.72117695,\n",
       "        0.69877306,  0.94263681,  0.30083258,  0.80233264,  1.02193807])"
      ]
     },
     "execution_count": 39,
     "metadata": {},
     "output_type": "execute_result"
    }
   ],
   "source": [
    "trainX[0]"
   ]
  },
  {
   "cell_type": "code",
   "execution_count": 55,
   "id": "29c1a44d",
   "metadata": {},
   "outputs": [
    {
     "data": {
      "text/plain": [
       "0.5837935382174717"
      ]
     },
     "execution_count": 55,
     "metadata": {},
     "output_type": "execute_result"
    }
   ],
   "source": [
    "trainY[3]"
   ]
  },
  {
   "cell_type": "code",
   "execution_count": 43,
   "id": "1d8cb4b5",
   "metadata": {},
   "outputs": [],
   "source": [
    "#train"
   ]
  },
  {
   "cell_type": "code",
   "execution_count": 46,
   "id": "67e60bf4",
   "metadata": {},
   "outputs": [],
   "source": [
    "from keras.models  import Sequential"
   ]
  },
  {
   "cell_type": "code",
   "execution_count": 47,
   "id": "9a25c7f7",
   "metadata": {},
   "outputs": [],
   "source": [
    "from  keras.layers  import Dense"
   ]
  },
  {
   "cell_type": "code",
   "execution_count": 48,
   "id": "9e1c5dcc",
   "metadata": {},
   "outputs": [],
   "source": [
    "from  keras.layers import SimpleRNN"
   ]
  },
  {
   "cell_type": "code",
   "execution_count": 49,
   "id": "6422cecd",
   "metadata": {},
   "outputs": [],
   "source": [
    "model  = Sequential()"
   ]
  },
  {
   "cell_type": "code",
   "execution_count": 50,
   "id": "9694e6d0",
   "metadata": {},
   "outputs": [],
   "source": [
    "model.add(   SimpleRNN(units=1 , activation='tanh')  )"
   ]
  },
  {
   "cell_type": "code",
   "execution_count": 51,
   "id": "be53f26f",
   "metadata": {},
   "outputs": [],
   "source": [
    "model.add(  Dense(units=1,  activation='linear' ))"
   ]
  },
  {
   "cell_type": "code",
   "execution_count": 52,
   "id": "08b0c5e4",
   "metadata": {},
   "outputs": [
    {
     "data": {
      "text/plain": [
       "{'name': 'sequential',\n",
       " 'layers': [{'class_name': 'SimpleRNN',\n",
       "   'config': {'name': 'simple_rnn',\n",
       "    'trainable': True,\n",
       "    'dtype': 'float32',\n",
       "    'return_sequences': False,\n",
       "    'return_state': False,\n",
       "    'go_backwards': False,\n",
       "    'stateful': False,\n",
       "    'unroll': False,\n",
       "    'time_major': False,\n",
       "    'units': 1,\n",
       "    'activation': 'tanh',\n",
       "    'use_bias': True,\n",
       "    'kernel_initializer': {'class_name': 'GlorotUniform',\n",
       "     'config': {'seed': None}},\n",
       "    'recurrent_initializer': {'class_name': 'Orthogonal',\n",
       "     'config': {'gain': 1.0, 'seed': None}},\n",
       "    'bias_initializer': {'class_name': 'Zeros', 'config': {}},\n",
       "    'kernel_regularizer': None,\n",
       "    'recurrent_regularizer': None,\n",
       "    'bias_regularizer': None,\n",
       "    'activity_regularizer': None,\n",
       "    'kernel_constraint': None,\n",
       "    'recurrent_constraint': None,\n",
       "    'bias_constraint': None,\n",
       "    'dropout': 0.0,\n",
       "    'recurrent_dropout': 0.0}},\n",
       "  {'class_name': 'Dense',\n",
       "   'config': {'name': 'dense',\n",
       "    'trainable': True,\n",
       "    'dtype': 'float32',\n",
       "    'units': 1,\n",
       "    'activation': 'linear',\n",
       "    'use_bias': True,\n",
       "    'kernel_initializer': {'class_name': 'GlorotUniform',\n",
       "     'config': {'seed': None}},\n",
       "    'bias_initializer': {'class_name': 'Zeros', 'config': {}},\n",
       "    'kernel_regularizer': None,\n",
       "    'bias_regularizer': None,\n",
       "    'activity_regularizer': None,\n",
       "    'kernel_constraint': None,\n",
       "    'bias_constraint': None}}]}"
      ]
     },
     "execution_count": 52,
     "metadata": {},
     "output_type": "execute_result"
    }
   ],
   "source": [
    "model.get_config()"
   ]
  },
  {
   "cell_type": "code",
   "execution_count": 53,
   "id": "f8580908",
   "metadata": {},
   "outputs": [],
   "source": [
    "model.compile(loss='mean_squared_error', optimizer='rmsprop')"
   ]
  },
  {
   "cell_type": "code",
   "execution_count": 54,
   "id": "23fadad5",
   "metadata": {},
   "outputs": [
    {
     "name": "stdout",
     "output_type": "stream",
     "text": [
      "Epoch 1/500\n",
      "31/31 [==============================] - 34s 3ms/step - loss: 0.3112\n",
      "Epoch 2/500\n",
      "31/31 [==============================] - 0s 3ms/step - loss: 0.1949\n",
      "Epoch 3/500\n",
      "31/31 [==============================] - 0s 3ms/step - loss: 0.1288\n",
      "Epoch 4/500\n",
      "31/31 [==============================] - 0s 3ms/step - loss: 0.0987\n",
      "Epoch 5/500\n",
      "31/31 [==============================] - 0s 3ms/step - loss: 0.0713\n",
      "Epoch 6/500\n",
      "31/31 [==============================] - 0s 3ms/step - loss: 0.0560\n",
      "Epoch 7/500\n",
      "31/31 [==============================] - 0s 3ms/step - loss: 0.0541\n",
      "Epoch 8/500\n",
      "31/31 [==============================] - 0s 4ms/step - loss: 0.0516\n",
      "Epoch 9/500\n",
      "31/31 [==============================] - 0s 3ms/step - loss: 0.0525\n",
      "Epoch 10/500\n",
      "31/31 [==============================] - 0s 4ms/step - loss: 0.0491\n",
      "Epoch 11/500\n",
      "31/31 [==============================] - 0s 4ms/step - loss: 0.0518\n",
      "Epoch 12/500\n",
      "31/31 [==============================] - 0s 4ms/step - loss: 0.0468\n",
      "Epoch 13/500\n",
      "31/31 [==============================] - 0s 5ms/step - loss: 0.0506\n",
      "Epoch 14/500\n",
      "31/31 [==============================] - 0s 4ms/step - loss: 0.0443\n",
      "Epoch 15/500\n",
      "31/31 [==============================] - 0s 4ms/step - loss: 0.0444\n",
      "Epoch 16/500\n",
      "31/31 [==============================] - 0s 4ms/step - loss: 0.0381\n",
      "Epoch 17/500\n",
      "31/31 [==============================] - 0s 4ms/step - loss: 0.0327\n",
      "Epoch 18/500\n",
      "31/31 [==============================] - 0s 5ms/step - loss: 0.0297\n",
      "Epoch 19/500\n",
      "31/31 [==============================] - 0s 5ms/step - loss: 0.0283\n",
      "Epoch 20/500\n",
      "31/31 [==============================] - 0s 5ms/step - loss: 0.0262\n",
      "Epoch 21/500\n",
      "31/31 [==============================] - 0s 5ms/step - loss: 0.0260\n",
      "Epoch 22/500\n",
      "31/31 [==============================] - 0s 4ms/step - loss: 0.0257\n",
      "Epoch 23/500\n",
      "31/31 [==============================] - 0s 5ms/step - loss: 0.0260\n",
      "Epoch 24/500\n",
      "31/31 [==============================] - 0s 5ms/step - loss: 0.0257\n",
      "Epoch 25/500\n",
      "31/31 [==============================] - 0s 5ms/step - loss: 0.0254\n",
      "Epoch 26/500\n",
      "31/31 [==============================] - 0s 5ms/step - loss: 0.0248\n",
      "Epoch 27/500\n",
      "31/31 [==============================] - 0s 5ms/step - loss: 0.0257\n",
      "Epoch 28/500\n",
      "31/31 [==============================] - 0s 5ms/step - loss: 0.0242\n",
      "Epoch 29/500\n",
      "31/31 [==============================] - 0s 5ms/step - loss: 0.0246\n",
      "Epoch 30/500\n",
      "31/31 [==============================] - 0s 7ms/step - loss: 0.0254\n",
      "Epoch 31/500\n",
      "31/31 [==============================] - 0s 7ms/step - loss: 0.0246\n",
      "Epoch 32/500\n",
      "31/31 [==============================] - 0s 8ms/step - loss: 0.0236\n",
      "Epoch 33/500\n",
      "31/31 [==============================] - 0s 6ms/step - loss: 0.0255\n",
      "Epoch 34/500\n",
      "31/31 [==============================] - 0s 6ms/step - loss: 0.0233\n",
      "Epoch 35/500\n",
      "31/31 [==============================] - 0s 5ms/step - loss: 0.0238\n",
      "Epoch 36/500\n",
      "31/31 [==============================] - 0s 6ms/step - loss: 0.0241\n",
      "Epoch 37/500\n",
      "31/31 [==============================] - 0s 8ms/step - loss: 0.0249\n",
      "Epoch 38/500\n",
      "31/31 [==============================] - 0s 7ms/step - loss: 0.0241\n",
      "Epoch 39/500\n",
      "31/31 [==============================] - 0s 7ms/step - loss: 0.0245\n",
      "Epoch 40/500\n",
      "31/31 [==============================] - 0s 7ms/step - loss: 0.0254\n",
      "Epoch 41/500\n",
      "31/31 [==============================] - 0s 6ms/step - loss: 0.0244\n",
      "Epoch 42/500\n",
      "31/31 [==============================] - 0s 5ms/step - loss: 0.0235A: 0s - loss: 0.023\n",
      "Epoch 43/500\n",
      "31/31 [==============================] - 0s 5ms/step - loss: 0.0251\n",
      "Epoch 44/500\n",
      "31/31 [==============================] - 0s 5ms/step - loss: 0.0250\n",
      "Epoch 45/500\n",
      "31/31 [==============================] - 0s 5ms/step - loss: 0.0232\n",
      "Epoch 46/500\n",
      "31/31 [==============================] - 0s 4ms/step - loss: 0.0243\n",
      "Epoch 47/500\n",
      "31/31 [==============================] - 0s 5ms/step - loss: 0.0235\n",
      "Epoch 48/500\n",
      "31/31 [==============================] - 0s 4ms/step - loss: 0.0238\n",
      "Epoch 49/500\n",
      "31/31 [==============================] - 0s 5ms/step - loss: 0.0229\n",
      "Epoch 50/500\n",
      "31/31 [==============================] - 0s 4ms/step - loss: 0.0248\n",
      "Epoch 51/500\n",
      "31/31 [==============================] - 0s 4ms/step - loss: 0.0239\n",
      "Epoch 52/500\n",
      "31/31 [==============================] - 0s 4ms/step - loss: 0.0252\n",
      "Epoch 53/500\n",
      "31/31 [==============================] - 0s 5ms/step - loss: 0.0239\n",
      "Epoch 54/500\n",
      "31/31 [==============================] - 0s 5ms/step - loss: 0.0233\n",
      "Epoch 55/500\n",
      "31/31 [==============================] - 0s 5ms/step - loss: 0.0245\n",
      "Epoch 56/500\n",
      "31/31 [==============================] - 0s 4ms/step - loss: 0.0239\n",
      "Epoch 57/500\n",
      "31/31 [==============================] - 0s 4ms/step - loss: 0.0255\n",
      "Epoch 58/500\n",
      "31/31 [==============================] - 0s 4ms/step - loss: 0.0230\n",
      "Epoch 59/500\n",
      "31/31 [==============================] - 0s 4ms/step - loss: 0.0247\n",
      "Epoch 60/500\n",
      "31/31 [==============================] - 0s 5ms/step - loss: 0.0227\n",
      "Epoch 61/500\n",
      "31/31 [==============================] - 0s 5ms/step - loss: 0.0239\n",
      "Epoch 62/500\n",
      "31/31 [==============================] - 0s 5ms/step - loss: 0.0242\n",
      "Epoch 63/500\n",
      "31/31 [==============================] - 0s 5ms/step - loss: 0.0246\n",
      "Epoch 64/500\n",
      "31/31 [==============================] - 0s 5ms/step - loss: 0.0242\n",
      "Epoch 65/500\n",
      "31/31 [==============================] - 0s 6ms/step - loss: 0.0244\n",
      "Epoch 66/500\n",
      "31/31 [==============================] - 0s 6ms/step - loss: 0.0232\n",
      "Epoch 67/500\n",
      "31/31 [==============================] - 0s 8ms/step - loss: 0.0249\n",
      "Epoch 68/500\n",
      "31/31 [==============================] - 0s 6ms/step - loss: 0.0242\n",
      "Epoch 69/500\n",
      "31/31 [==============================] - 0s 7ms/step - loss: 0.0227\n",
      "Epoch 70/500\n",
      "31/31 [==============================] - 0s 7ms/step - loss: 0.0237\n",
      "Epoch 71/500\n",
      "31/31 [==============================] - 0s 7ms/step - loss: 0.0234\n",
      "Epoch 72/500\n",
      "31/31 [==============================] - 0s 8ms/step - loss: 0.0231\n",
      "Epoch 73/500\n",
      "31/31 [==============================] - 0s 7ms/step - loss: 0.0250\n",
      "Epoch 74/500\n",
      "31/31 [==============================] - 0s 6ms/step - loss: 0.0251\n",
      "Epoch 75/500\n",
      "31/31 [==============================] - 0s 7ms/step - loss: 0.0223\n",
      "Epoch 76/500\n",
      "31/31 [==============================] - 0s 7ms/step - loss: 0.0234\n",
      "Epoch 77/500\n",
      "31/31 [==============================] - ETA: 0s - loss: 0.024 - 0s 6ms/step - loss: 0.0240\n",
      "Epoch 78/500\n",
      "31/31 [==============================] - 0s 6ms/step - loss: 0.0235\n",
      "Epoch 79/500\n",
      "31/31 [==============================] - 0s 6ms/step - loss: 0.0240\n",
      "Epoch 80/500\n",
      "31/31 [==============================] - 0s 6ms/step - loss: 0.0239\n",
      "Epoch 81/500\n",
      "31/31 [==============================] - 0s 7ms/step - loss: 0.0229\n",
      "Epoch 82/500\n",
      "31/31 [==============================] - 0s 8ms/step - loss: 0.0245\n",
      "Epoch 83/500\n",
      "31/31 [==============================] - 0s 6ms/step - loss: 0.0239\n",
      "Epoch 84/500\n",
      "31/31 [==============================] - 0s 6ms/step - loss: 0.0246\n",
      "Epoch 85/500\n",
      "31/31 [==============================] - 0s 5ms/step - loss: 0.0239\n",
      "Epoch 86/500\n",
      "31/31 [==============================] - 0s 5ms/step - loss: 0.0241\n",
      "Epoch 87/500\n",
      "31/31 [==============================] - 0s 5ms/step - loss: 0.0240\n",
      "Epoch 88/500\n",
      "31/31 [==============================] - 0s 5ms/step - loss: 0.0243\n",
      "Epoch 89/500\n",
      "31/31 [==============================] - 0s 4ms/step - loss: 0.0230\n",
      "Epoch 90/500\n",
      "31/31 [==============================] - 0s 4ms/step - loss: 0.0232\n",
      "Epoch 91/500\n",
      "31/31 [==============================] - 0s 4ms/step - loss: 0.0228\n",
      "Epoch 92/500\n",
      "31/31 [==============================] - 0s 4ms/step - loss: 0.0247\n",
      "Epoch 93/500\n",
      "31/31 [==============================] - 0s 4ms/step - loss: 0.0239\n",
      "Epoch 94/500\n",
      "31/31 [==============================] - 0s 4ms/step - loss: 0.0239\n",
      "Epoch 95/500\n",
      "31/31 [==============================] - 0s 4ms/step - loss: 0.0241\n",
      "Epoch 96/500\n",
      "31/31 [==============================] - 0s 4ms/step - loss: 0.0227\n",
      "Epoch 97/500\n",
      "31/31 [==============================] - 0s 4ms/step - loss: 0.0239\n",
      "Epoch 98/500\n",
      "31/31 [==============================] - 0s 4ms/step - loss: 0.0241\n",
      "Epoch 99/500\n",
      "31/31 [==============================] - 0s 4ms/step - loss: 0.0246\n",
      "Epoch 100/500\n",
      "31/31 [==============================] - 0s 4ms/step - loss: 0.0227\n",
      "Epoch 101/500\n",
      "31/31 [==============================] - 0s 5ms/step - loss: 0.0250\n",
      "Epoch 102/500\n",
      "31/31 [==============================] - 0s 5ms/step - loss: 0.0240\n",
      "Epoch 103/500\n",
      "31/31 [==============================] - 0s 4ms/step - loss: 0.0244\n",
      "Epoch 104/500\n",
      "31/31 [==============================] - 0s 4ms/step - loss: 0.0229\n",
      "Epoch 105/500\n",
      "31/31 [==============================] - 0s 4ms/step - loss: 0.0238\n",
      "Epoch 106/500\n",
      "31/31 [==============================] - 0s 4ms/step - loss: 0.0233\n",
      "Epoch 107/500\n",
      "31/31 [==============================] - 0s 4ms/step - loss: 0.0240\n",
      "Epoch 108/500\n",
      "31/31 [==============================] - 0s 4ms/step - loss: 0.0248\n",
      "Epoch 109/500\n",
      "31/31 [==============================] - 0s 4ms/step - loss: 0.0234\n",
      "Epoch 110/500\n",
      "31/31 [==============================] - 0s 5ms/step - loss: 0.0242\n",
      "Epoch 111/500\n",
      "31/31 [==============================] - 0s 4ms/step - loss: 0.0249\n",
      "Epoch 112/500\n",
      "31/31 [==============================] - 0s 5ms/step - loss: 0.0219\n",
      "Epoch 113/500\n",
      "31/31 [==============================] - 0s 5ms/step - loss: 0.0234\n",
      "Epoch 114/500\n",
      "31/31 [==============================] - 0s 5ms/step - loss: 0.0229\n",
      "Epoch 115/500\n",
      "31/31 [==============================] - 0s 4ms/step - loss: 0.0233\n",
      "Epoch 116/500\n",
      "31/31 [==============================] - 0s 4ms/step - loss: 0.0235\n",
      "Epoch 117/500\n",
      "31/31 [==============================] - 0s 4ms/step - loss: 0.0243\n",
      "Epoch 118/500\n",
      "31/31 [==============================] - 0s 4ms/step - loss: 0.0222\n",
      "Epoch 119/500\n",
      "31/31 [==============================] - 0s 5ms/step - loss: 0.0238\n",
      "Epoch 120/500\n",
      "31/31 [==============================] - 0s 4ms/step - loss: 0.0237\n",
      "Epoch 121/500\n",
      "31/31 [==============================] - 0s 4ms/step - loss: 0.0248\n",
      "Epoch 122/500\n",
      "31/31 [==============================] - 0s 4ms/step - loss: 0.0235\n",
      "Epoch 123/500\n",
      "31/31 [==============================] - 0s 5ms/step - loss: 0.0246\n",
      "Epoch 124/500\n",
      "31/31 [==============================] - 0s 4ms/step - loss: 0.0247\n",
      "Epoch 125/500\n",
      "31/31 [==============================] - 0s 3ms/step - loss: 0.0243\n",
      "Epoch 126/500\n",
      "31/31 [==============================] - 0s 3ms/step - loss: 0.0251\n",
      "Epoch 127/500\n",
      "31/31 [==============================] - 0s 3ms/step - loss: 0.0259\n",
      "Epoch 128/500\n",
      "31/31 [==============================] - 0s 4ms/step - loss: 0.0233\n",
      "Epoch 129/500\n",
      "31/31 [==============================] - 0s 4ms/step - loss: 0.0234\n",
      "Epoch 130/500\n",
      "31/31 [==============================] - 0s 4ms/step - loss: 0.0240\n",
      "Epoch 131/500\n",
      "31/31 [==============================] - 0s 4ms/step - loss: 0.0245\n",
      "Epoch 132/500\n",
      "31/31 [==============================] - 0s 4ms/step - loss: 0.0231\n",
      "Epoch 133/500\n",
      "31/31 [==============================] - 0s 4ms/step - loss: 0.0233\n",
      "Epoch 134/500\n",
      "31/31 [==============================] - 0s 4ms/step - loss: 0.0245\n",
      "Epoch 135/500\n",
      "31/31 [==============================] - 0s 3ms/step - loss: 0.0236\n",
      "Epoch 136/500\n",
      "31/31 [==============================] - 0s 4ms/step - loss: 0.0242\n",
      "Epoch 137/500\n",
      "31/31 [==============================] - 0s 4ms/step - loss: 0.0248\n",
      "Epoch 138/500\n",
      "31/31 [==============================] - 0s 3ms/step - loss: 0.0246\n",
      "Epoch 139/500\n",
      "31/31 [==============================] - 0s 4ms/step - loss: 0.0244\n",
      "Epoch 140/500\n",
      "31/31 [==============================] - 0s 4ms/step - loss: 0.0224\n",
      "Epoch 141/500\n",
      "31/31 [==============================] - 0s 4ms/step - loss: 0.0234\n",
      "Epoch 142/500\n",
      "31/31 [==============================] - 0s 4ms/step - loss: 0.0239\n",
      "Epoch 143/500\n",
      "31/31 [==============================] - 0s 4ms/step - loss: 0.0228\n",
      "Epoch 144/500\n",
      "31/31 [==============================] - 0s 4ms/step - loss: 0.0247\n",
      "Epoch 145/500\n",
      "31/31 [==============================] - 0s 4ms/step - loss: 0.0238\n",
      "Epoch 146/500\n",
      "31/31 [==============================] - 0s 4ms/step - loss: 0.0244\n",
      "Epoch 147/500\n",
      "31/31 [==============================] - 0s 4ms/step - loss: 0.0247\n",
      "Epoch 148/500\n",
      "31/31 [==============================] - 0s 4ms/step - loss: 0.0238\n",
      "Epoch 149/500\n",
      "31/31 [==============================] - 0s 4ms/step - loss: 0.0242\n",
      "Epoch 150/500\n",
      "31/31 [==============================] - 0s 4ms/step - loss: 0.0240\n",
      "Epoch 151/500\n",
      "31/31 [==============================] - 0s 4ms/step - loss: 0.0250\n",
      "Epoch 152/500\n",
      "31/31 [==============================] - 0s 4ms/step - loss: 0.0253\n",
      "Epoch 153/500\n",
      "31/31 [==============================] - 0s 4ms/step - loss: 0.0238\n",
      "Epoch 154/500\n",
      "31/31 [==============================] - 0s 4ms/step - loss: 0.0236\n",
      "Epoch 155/500\n",
      "31/31 [==============================] - 0s 4ms/step - loss: 0.0234\n",
      "Epoch 156/500\n",
      "31/31 [==============================] - 0s 3ms/step - loss: 0.0255\n",
      "Epoch 157/500\n",
      "31/31 [==============================] - 0s 3ms/step - loss: 0.0235\n",
      "Epoch 158/500\n",
      "31/31 [==============================] - 0s 3ms/step - loss: 0.0233\n",
      "Epoch 159/500\n",
      "31/31 [==============================] - 0s 3ms/step - loss: 0.0241\n",
      "Epoch 160/500\n",
      "31/31 [==============================] - 0s 4ms/step - loss: 0.0234\n",
      "Epoch 161/500\n",
      "31/31 [==============================] - 0s 3ms/step - loss: 0.0246\n",
      "Epoch 162/500\n",
      "31/31 [==============================] - 0s 3ms/step - loss: 0.0242\n",
      "Epoch 163/500\n",
      "31/31 [==============================] - 0s 3ms/step - loss: 0.0246\n",
      "Epoch 164/500\n",
      "31/31 [==============================] - 0s 3ms/step - loss: 0.0234\n",
      "Epoch 165/500\n",
      "31/31 [==============================] - 0s 3ms/step - loss: 0.0249\n",
      "Epoch 166/500\n",
      "31/31 [==============================] - 0s 4ms/step - loss: 0.0246\n",
      "Epoch 167/500\n",
      "31/31 [==============================] - 0s 4ms/step - loss: 0.0236\n",
      "Epoch 168/500\n",
      "31/31 [==============================] - 0s 4ms/step - loss: 0.0244\n",
      "Epoch 169/500\n",
      "31/31 [==============================] - 0s 4ms/step - loss: 0.0249\n",
      "Epoch 170/500\n",
      "31/31 [==============================] - 0s 4ms/step - loss: 0.0241\n",
      "Epoch 171/500\n",
      "31/31 [==============================] - 0s 4ms/step - loss: 0.0241\n",
      "Epoch 172/500\n",
      "31/31 [==============================] - 0s 3ms/step - loss: 0.0237\n",
      "Epoch 173/500\n",
      "31/31 [==============================] - 0s 3ms/step - loss: 0.0242\n",
      "Epoch 174/500\n",
      "31/31 [==============================] - 0s 3ms/step - loss: 0.0233\n",
      "Epoch 175/500\n",
      "31/31 [==============================] - 0s 4ms/step - loss: 0.0241\n",
      "Epoch 176/500\n",
      "31/31 [==============================] - 0s 4ms/step - loss: 0.0234\n",
      "Epoch 177/500\n",
      "31/31 [==============================] - 0s 4ms/step - loss: 0.0224\n",
      "Epoch 178/500\n",
      "31/31 [==============================] - 0s 4ms/step - loss: 0.0238\n",
      "Epoch 179/500\n",
      "31/31 [==============================] - 0s 4ms/step - loss: 0.0236\n",
      "Epoch 180/500\n",
      "31/31 [==============================] - 0s 4ms/step - loss: 0.0238\n",
      "Epoch 181/500\n",
      "31/31 [==============================] - 0s 4ms/step - loss: 0.0227\n",
      "Epoch 182/500\n",
      "31/31 [==============================] - 0s 4ms/step - loss: 0.0233\n",
      "Epoch 183/500\n",
      "31/31 [==============================] - 0s 4ms/step - loss: 0.0253\n",
      "Epoch 184/500\n",
      "31/31 [==============================] - 0s 4ms/step - loss: 0.0243\n",
      "Epoch 185/500\n",
      "31/31 [==============================] - 0s 4ms/step - loss: 0.0239\n",
      "Epoch 186/500\n",
      "31/31 [==============================] - 0s 4ms/step - loss: 0.0236\n",
      "Epoch 187/500\n",
      "31/31 [==============================] - 0s 4ms/step - loss: 0.0237\n",
      "Epoch 188/500\n",
      "31/31 [==============================] - 0s 4ms/step - loss: 0.0244\n",
      "Epoch 189/500\n",
      "31/31 [==============================] - 0s 4ms/step - loss: 0.0238\n",
      "Epoch 190/500\n",
      "31/31 [==============================] - 0s 4ms/step - loss: 0.0233\n",
      "Epoch 191/500\n",
      "31/31 [==============================] - 0s 4ms/step - loss: 0.0239\n",
      "Epoch 192/500\n",
      "31/31 [==============================] - 0s 4ms/step - loss: 0.0245\n",
      "Epoch 193/500\n",
      "31/31 [==============================] - 0s 4ms/step - loss: 0.0220\n",
      "Epoch 194/500\n",
      "31/31 [==============================] - 0s 4ms/step - loss: 0.0256\n",
      "Epoch 195/500\n",
      "31/31 [==============================] - 0s 4ms/step - loss: 0.0233\n",
      "Epoch 196/500\n",
      "31/31 [==============================] - 0s 4ms/step - loss: 0.0245\n",
      "Epoch 197/500\n",
      "31/31 [==============================] - 0s 4ms/step - loss: 0.0240\n",
      "Epoch 198/500\n",
      "31/31 [==============================] - 0s 4ms/step - loss: 0.0240\n",
      "Epoch 199/500\n",
      "31/31 [==============================] - 0s 4ms/step - loss: 0.0238\n",
      "Epoch 200/500\n",
      "31/31 [==============================] - 0s 4ms/step - loss: 0.0239\n",
      "Epoch 201/500\n"
     ]
    },
    {
     "name": "stdout",
     "output_type": "stream",
     "text": [
      "31/31 [==============================] - 0s 5ms/step - loss: 0.0239\n",
      "Epoch 202/500\n",
      "31/31 [==============================] - 0s 4ms/step - loss: 0.0238\n",
      "Epoch 203/500\n",
      "31/31 [==============================] - 0s 4ms/step - loss: 0.0237\n",
      "Epoch 204/500\n",
      "31/31 [==============================] - 0s 4ms/step - loss: 0.0238\n",
      "Epoch 205/500\n",
      "31/31 [==============================] - 0s 4ms/step - loss: 0.0234\n",
      "Epoch 206/500\n",
      "31/31 [==============================] - 0s 4ms/step - loss: 0.0236\n",
      "Epoch 207/500\n",
      "31/31 [==============================] - 0s 4ms/step - loss: 0.0228\n",
      "Epoch 208/500\n",
      "31/31 [==============================] - 0s 4ms/step - loss: 0.0241\n",
      "Epoch 209/500\n",
      "31/31 [==============================] - 0s 4ms/step - loss: 0.0235\n",
      "Epoch 210/500\n",
      "31/31 [==============================] - 0s 4ms/step - loss: 0.0232\n",
      "Epoch 211/500\n",
      "31/31 [==============================] - 0s 3ms/step - loss: 0.0238\n",
      "Epoch 212/500\n",
      "31/31 [==============================] - 0s 3ms/step - loss: 0.0226\n",
      "Epoch 213/500\n",
      "31/31 [==============================] - 0s 3ms/step - loss: 0.0237\n",
      "Epoch 214/500\n",
      "31/31 [==============================] - 0s 3ms/step - loss: 0.0239\n",
      "Epoch 215/500\n",
      "31/31 [==============================] - 0s 4ms/step - loss: 0.0237\n",
      "Epoch 216/500\n",
      "31/31 [==============================] - 0s 3ms/step - loss: 0.0241\n",
      "Epoch 217/500\n",
      "31/31 [==============================] - 0s 4ms/step - loss: 0.0233\n",
      "Epoch 218/500\n",
      "31/31 [==============================] - 0s 4ms/step - loss: 0.0249\n",
      "Epoch 219/500\n",
      "31/31 [==============================] - 0s 4ms/step - loss: 0.0228\n",
      "Epoch 220/500\n",
      "31/31 [==============================] - 0s 3ms/step - loss: 0.0233\n",
      "Epoch 221/500\n",
      "31/31 [==============================] - 0s 3ms/step - loss: 0.0244\n",
      "Epoch 222/500\n",
      "31/31 [==============================] - 0s 3ms/step - loss: 0.0239\n",
      "Epoch 223/500\n",
      "31/31 [==============================] - 0s 3ms/step - loss: 0.0231\n",
      "Epoch 224/500\n",
      "31/31 [==============================] - 0s 4ms/step - loss: 0.0244\n",
      "Epoch 225/500\n",
      "31/31 [==============================] - 0s 4ms/step - loss: 0.0239\n",
      "Epoch 226/500\n",
      "31/31 [==============================] - 0s 4ms/step - loss: 0.0244\n",
      "Epoch 227/500\n",
      "31/31 [==============================] - 0s 3ms/step - loss: 0.0243\n",
      "Epoch 228/500\n",
      "31/31 [==============================] - 0s 3ms/step - loss: 0.0240\n",
      "Epoch 229/500\n",
      "31/31 [==============================] - 0s 3ms/step - loss: 0.0233\n",
      "Epoch 230/500\n",
      "31/31 [==============================] - 0s 3ms/step - loss: 0.0238\n",
      "Epoch 231/500\n",
      "31/31 [==============================] - 0s 3ms/step - loss: 0.0239\n",
      "Epoch 232/500\n",
      "31/31 [==============================] - 0s 3ms/step - loss: 0.0240\n",
      "Epoch 233/500\n",
      "31/31 [==============================] - 0s 3ms/step - loss: 0.0231\n",
      "Epoch 234/500\n",
      "31/31 [==============================] - 0s 3ms/step - loss: 0.0255\n",
      "Epoch 235/500\n",
      "31/31 [==============================] - 0s 3ms/step - loss: 0.0252\n",
      "Epoch 236/500\n",
      "31/31 [==============================] - 0s 3ms/step - loss: 0.0257\n",
      "Epoch 237/500\n",
      "31/31 [==============================] - 0s 3ms/step - loss: 0.0240\n",
      "Epoch 238/500\n",
      "31/31 [==============================] - 0s 3ms/step - loss: 0.0237\n",
      "Epoch 239/500\n",
      "31/31 [==============================] - 0s 3ms/step - loss: 0.0252\n",
      "Epoch 240/500\n",
      "31/31 [==============================] - 0s 3ms/step - loss: 0.0252\n",
      "Epoch 241/500\n",
      "31/31 [==============================] - 0s 3ms/step - loss: 0.0229\n",
      "Epoch 242/500\n",
      "31/31 [==============================] - 0s 3ms/step - loss: 0.0233\n",
      "Epoch 243/500\n",
      "31/31 [==============================] - 0s 3ms/step - loss: 0.0240\n",
      "Epoch 244/500\n",
      "31/31 [==============================] - 0s 3ms/step - loss: 0.0239\n",
      "Epoch 245/500\n",
      "31/31 [==============================] - 0s 3ms/step - loss: 0.0243\n",
      "Epoch 246/500\n",
      "31/31 [==============================] - 0s 3ms/step - loss: 0.0254\n",
      "Epoch 247/500\n",
      "31/31 [==============================] - 0s 3ms/step - loss: 0.0245\n",
      "Epoch 248/500\n",
      "31/31 [==============================] - 0s 3ms/step - loss: 0.0249\n",
      "Epoch 249/500\n",
      "31/31 [==============================] - 0s 3ms/step - loss: 0.0237\n",
      "Epoch 250/500\n",
      "31/31 [==============================] - 0s 3ms/step - loss: 0.0236\n",
      "Epoch 251/500\n",
      "31/31 [==============================] - 0s 3ms/step - loss: 0.0241\n",
      "Epoch 252/500\n",
      "31/31 [==============================] - 0s 3ms/step - loss: 0.0248\n",
      "Epoch 253/500\n",
      "31/31 [==============================] - 0s 3ms/step - loss: 0.0227\n",
      "Epoch 254/500\n",
      "31/31 [==============================] - 0s 4ms/step - loss: 0.0235\n",
      "Epoch 255/500\n",
      "31/31 [==============================] - 0s 3ms/step - loss: 0.0238\n",
      "Epoch 256/500\n",
      "31/31 [==============================] - 0s 3ms/step - loss: 0.0247\n",
      "Epoch 257/500\n",
      "31/31 [==============================] - 0s 3ms/step - loss: 0.0251\n",
      "Epoch 258/500\n",
      "31/31 [==============================] - 0s 3ms/step - loss: 0.0239\n",
      "Epoch 259/500\n",
      "31/31 [==============================] - 0s 3ms/step - loss: 0.0240\n",
      "Epoch 260/500\n",
      "31/31 [==============================] - 0s 3ms/step - loss: 0.0239\n",
      "Epoch 261/500\n",
      "31/31 [==============================] - 0s 3ms/step - loss: 0.0236\n",
      "Epoch 262/500\n",
      "31/31 [==============================] - 0s 3ms/step - loss: 0.0241\n",
      "Epoch 263/500\n",
      "31/31 [==============================] - 0s 3ms/step - loss: 0.0231\n",
      "Epoch 264/500\n",
      "31/31 [==============================] - 0s 3ms/step - loss: 0.0238\n",
      "Epoch 265/500\n",
      "31/31 [==============================] - 0s 3ms/step - loss: 0.0241\n",
      "Epoch 266/500\n",
      "31/31 [==============================] - 0s 4ms/step - loss: 0.0228\n",
      "Epoch 267/500\n",
      "31/31 [==============================] - 0s 3ms/step - loss: 0.0236\n",
      "Epoch 268/500\n",
      "31/31 [==============================] - 0s 3ms/step - loss: 0.0239\n",
      "Epoch 269/500\n",
      "31/31 [==============================] - 0s 3ms/step - loss: 0.0247\n",
      "Epoch 270/500\n",
      "31/31 [==============================] - 0s 3ms/step - loss: 0.0231\n",
      "Epoch 271/500\n",
      "31/31 [==============================] - 0s 4ms/step - loss: 0.0250\n",
      "Epoch 272/500\n",
      "31/31 [==============================] - 0s 3ms/step - loss: 0.0240\n",
      "Epoch 273/500\n",
      "31/31 [==============================] - 0s 3ms/step - loss: 0.0237\n",
      "Epoch 274/500\n",
      "31/31 [==============================] - 0s 3ms/step - loss: 0.0239\n",
      "Epoch 275/500\n",
      "31/31 [==============================] - 0s 3ms/step - loss: 0.0234\n",
      "Epoch 276/500\n",
      "31/31 [==============================] - 0s 3ms/step - loss: 0.0231\n",
      "Epoch 277/500\n",
      "31/31 [==============================] - 0s 3ms/step - loss: 0.0248\n",
      "Epoch 278/500\n",
      "31/31 [==============================] - 0s 3ms/step - loss: 0.0257\n",
      "Epoch 279/500\n",
      "31/31 [==============================] - 0s 3ms/step - loss: 0.0231\n",
      "Epoch 280/500\n",
      "31/31 [==============================] - 0s 3ms/step - loss: 0.0236\n",
      "Epoch 281/500\n",
      "31/31 [==============================] - 0s 3ms/step - loss: 0.0240\n",
      "Epoch 282/500\n",
      "31/31 [==============================] - 0s 3ms/step - loss: 0.0238\n",
      "Epoch 283/500\n",
      "31/31 [==============================] - 0s 3ms/step - loss: 0.0240\n",
      "Epoch 284/500\n",
      "31/31 [==============================] - 0s 3ms/step - loss: 0.0247\n",
      "Epoch 285/500\n",
      "31/31 [==============================] - 0s 3ms/step - loss: 0.0234\n",
      "Epoch 286/500\n",
      "31/31 [==============================] - 0s 3ms/step - loss: 0.0233\n",
      "Epoch 287/500\n",
      "31/31 [==============================] - 0s 3ms/step - loss: 0.0241\n",
      "Epoch 288/500\n",
      "31/31 [==============================] - 0s 4ms/step - loss: 0.0224\n",
      "Epoch 289/500\n",
      "31/31 [==============================] - 0s 5ms/step - loss: 0.0241\n",
      "Epoch 290/500\n",
      "31/31 [==============================] - 0s 4ms/step - loss: 0.0239\n",
      "Epoch 291/500\n",
      "31/31 [==============================] - 0s 4ms/step - loss: 0.0246\n",
      "Epoch 292/500\n",
      "31/31 [==============================] - 0s 4ms/step - loss: 0.0243\n",
      "Epoch 293/500\n",
      "31/31 [==============================] - 0s 4ms/step - loss: 0.0244\n",
      "Epoch 294/500\n",
      "31/31 [==============================] - 0s 4ms/step - loss: 0.0255\n",
      "Epoch 295/500\n",
      "31/31 [==============================] - 0s 4ms/step - loss: 0.0230\n",
      "Epoch 296/500\n",
      "31/31 [==============================] - 0s 4ms/step - loss: 0.0245\n",
      "Epoch 297/500\n",
      "31/31 [==============================] - 0s 4ms/step - loss: 0.0248\n",
      "Epoch 298/500\n",
      "31/31 [==============================] - 0s 4ms/step - loss: 0.0229\n",
      "Epoch 299/500\n",
      "31/31 [==============================] - 0s 4ms/step - loss: 0.0245\n",
      "Epoch 300/500\n",
      "31/31 [==============================] - 0s 4ms/step - loss: 0.0247\n",
      "Epoch 301/500\n"
     ]
    },
    {
     "name": "stdout",
     "output_type": "stream",
     "text": [
      "31/31 [==============================] - 0s 4ms/step - loss: 0.0239\n",
      "Epoch 302/500\n",
      "31/31 [==============================] - 0s 4ms/step - loss: 0.0237\n",
      "Epoch 303/500\n",
      "31/31 [==============================] - 0s 3ms/step - loss: 0.0240\n",
      "Epoch 304/500\n",
      "31/31 [==============================] - 0s 3ms/step - loss: 0.0239\n",
      "Epoch 305/500\n",
      "31/31 [==============================] - 0s 4ms/step - loss: 0.0236\n",
      "Epoch 306/500\n",
      "31/31 [==============================] - 0s 4ms/step - loss: 0.0241\n",
      "Epoch 307/500\n",
      "31/31 [==============================] - 0s 4ms/step - loss: 0.0238\n",
      "Epoch 308/500\n",
      "31/31 [==============================] - 0s 4ms/step - loss: 0.0251\n",
      "Epoch 309/500\n",
      "31/31 [==============================] - 0s 4ms/step - loss: 0.0250\n",
      "Epoch 310/500\n",
      "31/31 [==============================] - 0s 3ms/step - loss: 0.0235\n",
      "Epoch 311/500\n",
      "31/31 [==============================] - 0s 3ms/step - loss: 0.0230\n",
      "Epoch 312/500\n",
      "31/31 [==============================] - 0s 3ms/step - loss: 0.0244\n",
      "Epoch 313/500\n",
      "31/31 [==============================] - 0s 3ms/step - loss: 0.0248\n",
      "Epoch 314/500\n",
      "31/31 [==============================] - 0s 3ms/step - loss: 0.0245\n",
      "Epoch 315/500\n",
      "31/31 [==============================] - 0s 4ms/step - loss: 0.0235\n",
      "Epoch 316/500\n",
      "31/31 [==============================] - 0s 4ms/step - loss: 0.0253\n",
      "Epoch 317/500\n",
      "31/31 [==============================] - 0s 4ms/step - loss: 0.0239\n",
      "Epoch 318/500\n",
      "31/31 [==============================] - 0s 4ms/step - loss: 0.0248\n",
      "Epoch 319/500\n",
      "31/31 [==============================] - 0s 3ms/step - loss: 0.0241\n",
      "Epoch 320/500\n",
      "31/31 [==============================] - 0s 3ms/step - loss: 0.0248\n",
      "Epoch 321/500\n",
      "31/31 [==============================] - 0s 3ms/step - loss: 0.0237\n",
      "Epoch 322/500\n",
      "31/31 [==============================] - 0s 3ms/step - loss: 0.0233\n",
      "Epoch 323/500\n",
      "31/31 [==============================] - 0s 4ms/step - loss: 0.0242\n",
      "Epoch 324/500\n",
      "31/31 [==============================] - 0s 3ms/step - loss: 0.0231\n",
      "Epoch 325/500\n",
      "31/31 [==============================] - 0s 3ms/step - loss: 0.0237\n",
      "Epoch 326/500\n",
      "31/31 [==============================] - 0s 3ms/step - loss: 0.0237\n",
      "Epoch 327/500\n",
      "31/31 [==============================] - 0s 3ms/step - loss: 0.0249\n",
      "Epoch 328/500\n",
      "31/31 [==============================] - 0s 3ms/step - loss: 0.0253\n",
      "Epoch 329/500\n",
      "31/31 [==============================] - 0s 4ms/step - loss: 0.0239\n",
      "Epoch 330/500\n",
      "31/31 [==============================] - 0s 4ms/step - loss: 0.0228\n",
      "Epoch 331/500\n",
      "31/31 [==============================] - 0s 4ms/step - loss: 0.0226\n",
      "Epoch 332/500\n",
      "31/31 [==============================] - 0s 4ms/step - loss: 0.0235\n",
      "Epoch 333/500\n",
      "31/31 [==============================] - 0s 4ms/step - loss: 0.0241\n",
      "Epoch 334/500\n",
      "31/31 [==============================] - 0s 3ms/step - loss: 0.0241\n",
      "Epoch 335/500\n",
      "31/31 [==============================] - 0s 3ms/step - loss: 0.0244\n",
      "Epoch 336/500\n",
      "31/31 [==============================] - 0s 4ms/step - loss: 0.0238\n",
      "Epoch 337/500\n",
      "31/31 [==============================] - 0s 3ms/step - loss: 0.0230\n",
      "Epoch 338/500\n",
      "31/31 [==============================] - 0s 3ms/step - loss: 0.0232\n",
      "Epoch 339/500\n",
      "31/31 [==============================] - 0s 4ms/step - loss: 0.0243\n",
      "Epoch 340/500\n",
      "31/31 [==============================] - 0s 3ms/step - loss: 0.0246\n",
      "Epoch 341/500\n",
      "31/31 [==============================] - 0s 3ms/step - loss: 0.0239\n",
      "Epoch 342/500\n",
      "31/31 [==============================] - 0s 4ms/step - loss: 0.0235\n",
      "Epoch 343/500\n",
      "31/31 [==============================] - 0s 4ms/step - loss: 0.0235\n",
      "Epoch 344/500\n",
      "31/31 [==============================] - 0s 3ms/step - loss: 0.0243\n",
      "Epoch 345/500\n",
      "31/31 [==============================] - 0s 3ms/step - loss: 0.0239\n",
      "Epoch 346/500\n",
      "31/31 [==============================] - 0s 3ms/step - loss: 0.0243\n",
      "Epoch 347/500\n",
      "31/31 [==============================] - 0s 3ms/step - loss: 0.0246\n",
      "Epoch 348/500\n",
      "31/31 [==============================] - 0s 3ms/step - loss: 0.0224\n",
      "Epoch 349/500\n",
      "31/31 [==============================] - 0s 3ms/step - loss: 0.0249\n",
      "Epoch 350/500\n",
      "31/31 [==============================] - 0s 3ms/step - loss: 0.0233\n",
      "Epoch 351/500\n",
      "31/31 [==============================] - 0s 4ms/step - loss: 0.0248\n",
      "Epoch 352/500\n",
      "31/31 [==============================] - 0s 3ms/step - loss: 0.0230\n",
      "Epoch 353/500\n",
      "31/31 [==============================] - 0s 3ms/step - loss: 0.0246\n",
      "Epoch 354/500\n",
      "31/31 [==============================] - 0s 3ms/step - loss: 0.0256\n",
      "Epoch 355/500\n",
      "31/31 [==============================] - 0s 4ms/step - loss: 0.0250\n",
      "Epoch 356/500\n",
      "31/31 [==============================] - 0s 3ms/step - loss: 0.0233\n",
      "Epoch 357/500\n",
      "31/31 [==============================] - 0s 3ms/step - loss: 0.0239\n",
      "Epoch 358/500\n",
      "31/31 [==============================] - 0s 3ms/step - loss: 0.0241\n",
      "Epoch 359/500\n",
      "31/31 [==============================] - 0s 3ms/step - loss: 0.0237\n",
      "Epoch 360/500\n",
      "31/31 [==============================] - 0s 3ms/step - loss: 0.0237\n",
      "Epoch 361/500\n",
      "31/31 [==============================] - 0s 3ms/step - loss: 0.0238\n",
      "Epoch 362/500\n",
      "31/31 [==============================] - 0s 3ms/step - loss: 0.0228\n",
      "Epoch 363/500\n",
      "31/31 [==============================] - 0s 3ms/step - loss: 0.0234\n",
      "Epoch 364/500\n",
      "31/31 [==============================] - 0s 3ms/step - loss: 0.0242\n",
      "Epoch 365/500\n",
      "31/31 [==============================] - 0s 3ms/step - loss: 0.0245\n",
      "Epoch 366/500\n",
      "31/31 [==============================] - 0s 3ms/step - loss: 0.0240\n",
      "Epoch 367/500\n",
      "31/31 [==============================] - 0s 3ms/step - loss: 0.0236\n",
      "Epoch 368/500\n",
      "31/31 [==============================] - 0s 3ms/step - loss: 0.0242\n",
      "Epoch 369/500\n",
      "31/31 [==============================] - 0s 3ms/step - loss: 0.0230\n",
      "Epoch 370/500\n",
      "31/31 [==============================] - 0s 4ms/step - loss: 0.0231\n",
      "Epoch 371/500\n",
      "31/31 [==============================] - 0s 3ms/step - loss: 0.0225\n",
      "Epoch 372/500\n",
      "31/31 [==============================] - 0s 3ms/step - loss: 0.0244\n",
      "Epoch 373/500\n",
      "31/31 [==============================] - 0s 3ms/step - loss: 0.0255\n",
      "Epoch 374/500\n",
      "31/31 [==============================] - 0s 3ms/step - loss: 0.0242\n",
      "Epoch 375/500\n",
      "31/31 [==============================] - 0s 3ms/step - loss: 0.0236\n",
      "Epoch 376/500\n",
      "31/31 [==============================] - 0s 3ms/step - loss: 0.0233\n",
      "Epoch 377/500\n",
      "31/31 [==============================] - 0s 3ms/step - loss: 0.0243\n",
      "Epoch 378/500\n",
      "31/31 [==============================] - 0s 3ms/step - loss: 0.0238\n",
      "Epoch 379/500\n",
      "31/31 [==============================] - 0s 3ms/step - loss: 0.0235\n",
      "Epoch 380/500\n",
      "31/31 [==============================] - 0s 4ms/step - loss: 0.0225\n",
      "Epoch 381/500\n",
      "31/31 [==============================] - 0s 3ms/step - loss: 0.0234\n",
      "Epoch 382/500\n",
      "31/31 [==============================] - 0s 3ms/step - loss: 0.0252\n",
      "Epoch 383/500\n",
      "31/31 [==============================] - 0s 3ms/step - loss: 0.0243\n",
      "Epoch 384/500\n",
      "31/31 [==============================] - 0s 3ms/step - loss: 0.0238\n",
      "Epoch 385/500\n",
      "31/31 [==============================] - 0s 3ms/step - loss: 0.0242\n",
      "Epoch 386/500\n",
      "31/31 [==============================] - 0s 3ms/step - loss: 0.0243\n",
      "Epoch 387/500\n",
      "31/31 [==============================] - 0s 3ms/step - loss: 0.0242\n",
      "Epoch 388/500\n",
      "31/31 [==============================] - 0s 3ms/step - loss: 0.0244\n",
      "Epoch 389/500\n",
      "31/31 [==============================] - 0s 3ms/step - loss: 0.0246\n",
      "Epoch 390/500\n",
      "31/31 [==============================] - 0s 4ms/step - loss: 0.0249\n",
      "Epoch 391/500\n",
      "31/31 [==============================] - 0s 3ms/step - loss: 0.0233\n",
      "Epoch 392/500\n",
      "31/31 [==============================] - 0s 3ms/step - loss: 0.0243\n",
      "Epoch 393/500\n",
      "31/31 [==============================] - 0s 3ms/step - loss: 0.0243\n",
      "Epoch 394/500\n",
      "31/31 [==============================] - 0s 3ms/step - loss: 0.0227\n",
      "Epoch 395/500\n",
      "31/31 [==============================] - 0s 4ms/step - loss: 0.0247\n",
      "Epoch 396/500\n",
      "31/31 [==============================] - 0s 4ms/step - loss: 0.0245\n",
      "Epoch 397/500\n",
      "31/31 [==============================] - 0s 3ms/step - loss: 0.0238\n",
      "Epoch 398/500\n",
      "31/31 [==============================] - 0s 3ms/step - loss: 0.0244\n",
      "Epoch 399/500\n",
      "31/31 [==============================] - 0s 3ms/step - loss: 0.0244\n",
      "Epoch 400/500\n",
      "31/31 [==============================] - 0s 3ms/step - loss: 0.0246\n",
      "Epoch 401/500\n"
     ]
    },
    {
     "name": "stdout",
     "output_type": "stream",
     "text": [
      "31/31 [==============================] - 0s 3ms/step - loss: 0.0253\n",
      "Epoch 402/500\n",
      "31/31 [==============================] - 0s 3ms/step - loss: 0.0238\n",
      "Epoch 403/500\n",
      "31/31 [==============================] - 0s 3ms/step - loss: 0.0235\n",
      "Epoch 404/500\n",
      "31/31 [==============================] - 0s 4ms/step - loss: 0.0243\n",
      "Epoch 405/500\n",
      "31/31 [==============================] - 0s 3ms/step - loss: 0.0259\n",
      "Epoch 406/500\n",
      "31/31 [==============================] - 0s 3ms/step - loss: 0.0241\n",
      "Epoch 407/500\n",
      "31/31 [==============================] - 0s 3ms/step - loss: 0.0233\n",
      "Epoch 408/500\n",
      "31/31 [==============================] - 0s 4ms/step - loss: 0.0232\n",
      "Epoch 409/500\n",
      "31/31 [==============================] - 0s 3ms/step - loss: 0.0242\n",
      "Epoch 410/500\n",
      "31/31 [==============================] - 0s 3ms/step - loss: 0.0235\n",
      "Epoch 411/500\n",
      "31/31 [==============================] - 0s 3ms/step - loss: 0.0254\n",
      "Epoch 412/500\n",
      "31/31 [==============================] - 0s 3ms/step - loss: 0.0241\n",
      "Epoch 413/500\n",
      "31/31 [==============================] - 0s 3ms/step - loss: 0.0234\n",
      "Epoch 414/500\n",
      "31/31 [==============================] - 0s 4ms/step - loss: 0.0230\n",
      "Epoch 415/500\n",
      "31/31 [==============================] - 0s 4ms/step - loss: 0.0241\n",
      "Epoch 416/500\n",
      "31/31 [==============================] - 0s 3ms/step - loss: 0.0252\n",
      "Epoch 417/500\n",
      "31/31 [==============================] - 0s 3ms/step - loss: 0.0227\n",
      "Epoch 418/500\n",
      "31/31 [==============================] - 0s 3ms/step - loss: 0.0235\n",
      "Epoch 419/500\n",
      "31/31 [==============================] - 0s 4ms/step - loss: 0.0250\n",
      "Epoch 420/500\n",
      "31/31 [==============================] - 0s 4ms/step - loss: 0.0237\n",
      "Epoch 421/500\n",
      "31/31 [==============================] - 0s 4ms/step - loss: 0.0244\n",
      "Epoch 422/500\n",
      "31/31 [==============================] - 0s 4ms/step - loss: 0.0238\n",
      "Epoch 423/500\n",
      "31/31 [==============================] - 0s 4ms/step - loss: 0.0234\n",
      "Epoch 424/500\n",
      "31/31 [==============================] - 0s 3ms/step - loss: 0.0230\n",
      "Epoch 425/500\n",
      "31/31 [==============================] - 0s 4ms/step - loss: 0.0238\n",
      "Epoch 426/500\n",
      "31/31 [==============================] - 0s 3ms/step - loss: 0.0247\n",
      "Epoch 427/500\n",
      "31/31 [==============================] - 0s 3ms/step - loss: 0.0244\n",
      "Epoch 428/500\n",
      "31/31 [==============================] - 0s 3ms/step - loss: 0.0244\n",
      "Epoch 429/500\n",
      "31/31 [==============================] - 0s 3ms/step - loss: 0.0242\n",
      "Epoch 430/500\n",
      "31/31 [==============================] - 0s 3ms/step - loss: 0.0240\n",
      "Epoch 431/500\n",
      "31/31 [==============================] - 0s 3ms/step - loss: 0.0231\n",
      "Epoch 432/500\n",
      "31/31 [==============================] - 0s 3ms/step - loss: 0.0238\n",
      "Epoch 433/500\n",
      "31/31 [==============================] - 0s 3ms/step - loss: 0.0246\n",
      "Epoch 434/500\n",
      "31/31 [==============================] - 0s 3ms/step - loss: 0.0242\n",
      "Epoch 435/500\n",
      "31/31 [==============================] - 0s 3ms/step - loss: 0.0235\n",
      "Epoch 436/500\n",
      "31/31 [==============================] - 0s 3ms/step - loss: 0.0236\n",
      "Epoch 437/500\n",
      "31/31 [==============================] - 0s 3ms/step - loss: 0.0261\n",
      "Epoch 438/500\n",
      "31/31 [==============================] - 0s 3ms/step - loss: 0.0240\n",
      "Epoch 439/500\n",
      "31/31 [==============================] - 0s 3ms/step - loss: 0.0229\n",
      "Epoch 440/500\n",
      "31/31 [==============================] - 0s 3ms/step - loss: 0.0245\n",
      "Epoch 441/500\n",
      "31/31 [==============================] - 0s 3ms/step - loss: 0.0234\n",
      "Epoch 442/500\n",
      "31/31 [==============================] - 0s 3ms/step - loss: 0.0238\n",
      "Epoch 443/500\n",
      "31/31 [==============================] - 0s 3ms/step - loss: 0.0238\n",
      "Epoch 444/500\n",
      "31/31 [==============================] - 0s 3ms/step - loss: 0.0233\n",
      "Epoch 445/500\n",
      "31/31 [==============================] - 0s 3ms/step - loss: 0.0236\n",
      "Epoch 446/500\n",
      "31/31 [==============================] - 0s 3ms/step - loss: 0.0240\n",
      "Epoch 447/500\n",
      "31/31 [==============================] - 0s 3ms/step - loss: 0.0239\n",
      "Epoch 448/500\n",
      "31/31 [==============================] - 0s 3ms/step - loss: 0.0226\n",
      "Epoch 449/500\n",
      "31/31 [==============================] - 0s 3ms/step - loss: 0.0246\n",
      "Epoch 450/500\n",
      "31/31 [==============================] - 0s 3ms/step - loss: 0.0241\n",
      "Epoch 451/500\n",
      "31/31 [==============================] - 0s 3ms/step - loss: 0.0244\n",
      "Epoch 452/500\n",
      "31/31 [==============================] - 0s 4ms/step - loss: 0.0238\n",
      "Epoch 453/500\n",
      "31/31 [==============================] - 0s 4ms/step - loss: 0.0238\n",
      "Epoch 454/500\n",
      "31/31 [==============================] - 0s 4ms/step - loss: 0.0233\n",
      "Epoch 455/500\n",
      "31/31 [==============================] - 0s 4ms/step - loss: 0.0249\n",
      "Epoch 456/500\n",
      "31/31 [==============================] - 0s 3ms/step - loss: 0.0234\n",
      "Epoch 457/500\n",
      "31/31 [==============================] - 0s 3ms/step - loss: 0.0255\n",
      "Epoch 458/500\n",
      "31/31 [==============================] - 0s 3ms/step - loss: 0.0234\n",
      "Epoch 459/500\n",
      "31/31 [==============================] - 0s 3ms/step - loss: 0.0245\n",
      "Epoch 460/500\n",
      "31/31 [==============================] - 0s 3ms/step - loss: 0.0241\n",
      "Epoch 461/500\n",
      "31/31 [==============================] - 0s 4ms/step - loss: 0.0245\n",
      "Epoch 462/500\n",
      "31/31 [==============================] - 0s 3ms/step - loss: 0.0232\n",
      "Epoch 463/500\n",
      "31/31 [==============================] - 0s 3ms/step - loss: 0.0225\n",
      "Epoch 464/500\n",
      "31/31 [==============================] - 0s 3ms/step - loss: 0.0245\n",
      "Epoch 465/500\n",
      "31/31 [==============================] - 0s 3ms/step - loss: 0.0229\n",
      "Epoch 466/500\n",
      "31/31 [==============================] - 0s 3ms/step - loss: 0.0226\n",
      "Epoch 467/500\n",
      "31/31 [==============================] - 0s 3ms/step - loss: 0.0237\n",
      "Epoch 468/500\n",
      "31/31 [==============================] - 0s 3ms/step - loss: 0.0237\n",
      "Epoch 469/500\n",
      "31/31 [==============================] - 0s 3ms/step - loss: 0.0233\n",
      "Epoch 470/500\n",
      "31/31 [==============================] - 0s 4ms/step - loss: 0.0236\n",
      "Epoch 471/500\n",
      "31/31 [==============================] - 0s 4ms/step - loss: 0.0236\n",
      "Epoch 472/500\n",
      "31/31 [==============================] - 0s 3ms/step - loss: 0.0246\n",
      "Epoch 473/500\n",
      "31/31 [==============================] - 0s 3ms/step - loss: 0.0241\n",
      "Epoch 474/500\n",
      "31/31 [==============================] - 0s 4ms/step - loss: 0.0239\n",
      "Epoch 475/500\n",
      "31/31 [==============================] - 0s 3ms/step - loss: 0.0248\n",
      "Epoch 476/500\n",
      "31/31 [==============================] - 0s 3ms/step - loss: 0.0233\n",
      "Epoch 477/500\n",
      "31/31 [==============================] - 0s 3ms/step - loss: 0.0224\n",
      "Epoch 478/500\n",
      "31/31 [==============================] - 0s 3ms/step - loss: 0.0237\n",
      "Epoch 479/500\n",
      "31/31 [==============================] - 0s 3ms/step - loss: 0.0242\n",
      "Epoch 480/500\n",
      "31/31 [==============================] - 0s 4ms/step - loss: 0.0248\n",
      "Epoch 481/500\n",
      "31/31 [==============================] - 0s 4ms/step - loss: 0.0245\n",
      "Epoch 482/500\n",
      "31/31 [==============================] - 0s 3ms/step - loss: 0.0246\n",
      "Epoch 483/500\n",
      "31/31 [==============================] - 0s 4ms/step - loss: 0.0252\n",
      "Epoch 484/500\n",
      "31/31 [==============================] - 0s 3ms/step - loss: 0.0235\n",
      "Epoch 485/500\n",
      "31/31 [==============================] - 0s 3ms/step - loss: 0.0233\n",
      "Epoch 486/500\n",
      "31/31 [==============================] - 0s 3ms/step - loss: 0.0237\n",
      "Epoch 487/500\n",
      "31/31 [==============================] - 0s 3ms/step - loss: 0.0231\n",
      "Epoch 488/500\n",
      "31/31 [==============================] - 0s 3ms/step - loss: 0.0237\n",
      "Epoch 489/500\n",
      "31/31 [==============================] - 0s 3ms/step - loss: 0.0250\n",
      "Epoch 490/500\n",
      "31/31 [==============================] - 0s 3ms/step - loss: 0.0242\n",
      "Epoch 491/500\n",
      "31/31 [==============================] - 0s 3ms/step - loss: 0.0241\n",
      "Epoch 492/500\n",
      "31/31 [==============================] - 0s 3ms/step - loss: 0.0227\n",
      "Epoch 493/500\n",
      "31/31 [==============================] - 0s 3ms/step - loss: 0.0247\n",
      "Epoch 494/500\n",
      "31/31 [==============================] - 0s 3ms/step - loss: 0.0244\n",
      "Epoch 495/500\n",
      "31/31 [==============================] - 0s 3ms/step - loss: 0.0250\n",
      "Epoch 496/500\n",
      "31/31 [==============================] - 0s 3ms/step - loss: 0.0240\n",
      "Epoch 497/500\n",
      "31/31 [==============================] - 0s 3ms/step - loss: 0.0231\n",
      "Epoch 498/500\n",
      "31/31 [==============================] - 0s 4ms/step - loss: 0.0244\n",
      "Epoch 499/500\n",
      "31/31 [==============================] - 0s 4ms/step - loss: 0.0240\n",
      "Epoch 500/500\n",
      "31/31 [==============================] - 0s 4ms/step - loss: 0.0241\n"
     ]
    },
    {
     "data": {
      "text/plain": [
       "<keras.callbacks.History at 0x22296fb4c40>"
      ]
     },
     "execution_count": 54,
     "metadata": {},
     "output_type": "execute_result"
    }
   ],
   "source": [
    "model.fit(trainX , trainY,  epochs=500)"
   ]
  },
  {
   "cell_type": "code",
   "execution_count": 55,
   "id": "7793cc5f",
   "metadata": {},
   "outputs": [],
   "source": [
    "loss = model.history.history['loss']"
   ]
  },
  {
   "cell_type": "code",
   "execution_count": 65,
   "id": "4f648f25",
   "metadata": {},
   "outputs": [
    {
     "data": {
      "text/plain": [
       "[<matplotlib.lines.Line2D at 0x2229b2b1b80>]"
      ]
     },
     "execution_count": 65,
     "metadata": {},
     "output_type": "execute_result"
    },
    {
     "data": {
      "image/png": "[encoded data removed]",
      "text/plain": [
       "<Figure size 432x288 with 1 Axes>"
      ]
     },
     "metadata": {
      "needs_background": "light"
     },
     "output_type": "display_data"
    }
   ],
   "source": [
    "plt.plot(loss)"
   ]
  },
  {
   "cell_type": "code",
   "execution_count": 57,
   "id": "b2fa5baf",
   "metadata": {},
   "outputs": [
    {
     "data": {
      "text/plain": [
       "[<matplotlib.lines.Line2D at 0x2229ad00e80>]"
      ]
     },
     "execution_count": 57,
     "metadata": {},
     "output_type": "execute_result"
    },
    {
     "data": {
      "image/png": "[encoded data removed]",
      "text/plain": [
       "<Figure size 432x288 with 1 Axes>"
      ]
     },
     "metadata": {
      "needs_background": "light"
     },
     "output_type": "display_data"
    }
   ],
   "source": [
    "plt.plot(ytarget)"
   ]
  },
  {
   "cell_type": "code",
   "execution_count": 67,
   "id": "e2890b5a",
   "metadata": {},
   "outputs": [],
   "source": [
    "train_pred = normalizer.inverse_transform(model.predict(trainX) )\n",
    "test_pred = normalizer.inverse_transform(model.predict(testX) )"
   ]
  },
  {
   "cell_type": "code",
   "execution_count": 69,
   "id": "b8400cb6",
   "metadata": {},
   "outputs": [
    {
     "data": {
      "text/plain": [
       "(990, 1)"
      ]
     },
     "execution_count": 69,
     "metadata": {},
     "output_type": "execute_result"
    }
   ],
   "source": [
    "train_pred.shape"
   ]
  },
  {
   "cell_type": "code",
   "execution_count": 70,
   "id": "b0092b7c",
   "metadata": {},
   "outputs": [
    {
     "data": {
      "text/plain": [
       "(490, 1)"
      ]
     },
     "execution_count": 70,
     "metadata": {},
     "output_type": "execute_result"
    }
   ],
   "source": [
    "test_pred.shape"
   ]
  },
  {
   "cell_type": "code",
   "execution_count": 72,
   "id": "f05fde0c",
   "metadata": {},
   "outputs": [],
   "source": [
    "predict = np.vstack((train_pred, test_pred) )"
   ]
  },
  {
   "cell_type": "code",
   "execution_count": 73,
   "id": "3ab15a47",
   "metadata": {},
   "outputs": [
    {
     "data": {
      "text/plain": [
       "(1480, 1)"
      ]
     },
     "execution_count": 73,
     "metadata": {},
     "output_type": "execute_result"
    }
   ],
   "source": [
    "predict.shape"
   ]
  },
  {
   "cell_type": "code",
   "execution_count": 76,
   "id": "6946b1d2",
   "metadata": {},
   "outputs": [
    {
     "data": {
      "text/plain": [
       "[<matplotlib.lines.Line2D at 0x2229c6083a0>]"
      ]
     },
     "execution_count": 76,
     "metadata": {},
     "output_type": "execute_result"
    },
    {
     "data": {
      "image/png": "[encoded data removed]",
      "text/plain": [
       "<Figure size 432x288 with 1 Axes>"
      ]
     },
     "metadata": {
      "needs_background": "light"
     },
     "output_type": "display_data"
    }
   ],
   "source": [
    "plt.plot(ytarget)\n",
    "plt.plot(predict)\n"
   ]
  },
  {
   "cell_type": "code",
   "execution_count": null,
   "id": "04975e94",
   "metadata": {},
   "outputs": [],
   "source": []
  }
 ],
 "metadata": {
  "kernelspec": {
   "display_name": "Python 3 (ipykernel)",
   "language": "python",
   "name": "python3"
  },
  "language_info": {
   "codemirror_mode": {
    "name": "ipython",
    "version": 3
   },
   "file_extension": ".py",
   "mimetype": "text/x-python",
   "name": "python",
   "nbconvert_exporter": "python",
   "pygments_lexer": "ipython3",
   "version": "3.10.12"
  }
 },
 "nbformat": 4,
 "nbformat_minor": 5
}
