{
 "cells": [
  {
   "cell_type": "markdown",
   "id": "98964cd0",
   "metadata": {},
   "source": [
    "# /*******************************************************\n",
    "* Copyright         : 2022 Vaibhav Khandare\n",
    "* Description       : RNN Task:- prediction of stack market price using googlr stock dataset\n",
    "*                    \n",
    "* Revision History  :\n",
    "* \t\tAuthor \t\t\n",
    "        Vaibhav Khandare \n",
    "* ------------------------------------------------------------------\n",
    "/******************************************************************/"
   ]
  },
  {
   "cell_type": "markdown",
   "id": "5ddb9243",
   "metadata": {},
   "source": [
    "# BEGINNER LEVEL TASK 02 - Stock Market Prediction And Forecasting Using Stacked LSTM\n",
    "\n"
   ]
  },
  {
   "cell_type": "code",
   "execution_count": null,
   "id": "0fd6b2b2",
   "metadata": {},
   "outputs": [],
   "source": []
  },
  {
   "cell_type": "code",
   "execution_count": null,
   "id": "17c3c09d",
   "metadata": {},
   "outputs": [],
   "source": []
  },
  {
   "cell_type": "code",
   "execution_count": null,
   "id": "30996859",
   "metadata": {},
   "outputs": [],
   "source": [
    "\n",
    "import pandas as pd"
   ]
  },
  {
   "cell_type": "code",
   "execution_count": null,
   "id": "bdae93eb",
   "metadata": {},
   "outputs": [],
   "source": [
    "#read the data of training set\n",
    "dataset_train = pd.read_csv('Google_Stock_Price_Train.csv')"
   ]
  },
  {
   "cell_type": "code",
   "execution_count": null,
   "id": "0985533c",
   "metadata": {},
   "outputs": [],
   "source": [
    "dataset_train"
   ]
  },
  {
   "cell_type": "code",
   "execution_count": null,
   "id": "4facd690",
   "metadata": {},
   "outputs": [],
   "source": [
    "print(dataset_train)"
   ]
  },
  {
   "cell_type": "code",
   "execution_count": null,
   "id": "8bb9e6e1",
   "metadata": {},
   "outputs": [],
   "source": [
    "dataset_train.shape"
   ]
  },
  {
   "cell_type": "code",
   "execution_count": null,
   "id": "cf4e2673",
   "metadata": {},
   "outputs": [],
   "source": [
    "dataset_train.head()"
   ]
  },
  {
   "cell_type": "code",
   "execution_count": null,
   "id": "9c1cc408",
   "metadata": {},
   "outputs": [],
   "source": [
    "#read the data of testing set\n",
    "dataset_test = pd.read_csv('Google_Stock_Price_Test.csv')"
   ]
  },
  {
   "cell_type": "code",
   "execution_count": null,
   "id": "f29d85a1",
   "metadata": {},
   "outputs": [],
   "source": [
    "dataset_test.shape"
   ]
  },
  {
   "cell_type": "code",
   "execution_count": null,
   "id": "479d5ba4",
   "metadata": {},
   "outputs": [],
   "source": [
    "#for creating visuals of this data we storing it in a temp. variable and opening the data in it.\n",
    "training_set = dataset_train[ [ 'Open'] ] "
   ]
  },
  {
   "cell_type": "code",
   "execution_count": null,
   "id": "8bb8c247",
   "metadata": {},
   "outputs": [],
   "source": [
    "training_set.shape"
   ]
  },
  {
   "cell_type": "code",
   "execution_count": null,
   "id": "f11b1480",
   "metadata": {},
   "outputs": [],
   "source": [
    "#visuals of training dataset\n",
    "training_set.plot()"
   ]
  },
  {
   "cell_type": "code",
   "execution_count": null,
   "id": "0fdffd1a",
   "metadata": {},
   "outputs": [],
   "source": [
    "real_stock_price = dataset_test[  [ 'Open']  ]"
   ]
  },
  {
   "cell_type": "code",
   "execution_count": null,
   "id": "b5ade656",
   "metadata": {},
   "outputs": [],
   "source": [
    "real_stock_price.plot()"
   ]
  },
  {
   "cell_type": "code",
   "execution_count": null,
   "id": "584c36c0",
   "metadata": {},
   "outputs": [],
   "source": [
    "#scaling the dataset into a range 0 to 1 for better accuracy.\n",
    "from sklearn.preprocessing  import MinMaxScaler"
   ]
  },
  {
   "cell_type": "code",
   "execution_count": null,
   "id": "32223232",
   "metadata": {},
   "outputs": [],
   "source": [
    "normalizer = MinMaxScaler(feature_range=(0,1))"
   ]
  },
  {
   "cell_type": "code",
   "execution_count": null,
   "id": "4a195a72",
   "metadata": {},
   "outputs": [],
   "source": [
    "#here we fit and transformed the training scale data into a range of 0 to 1.\n",
    "training_set_scaled  = normalizer.fit_transform(training_set)"
   ]
  },
  {
   "cell_type": "code",
   "execution_count": null,
   "id": "f76c1912",
   "metadata": {},
   "outputs": [],
   "source": [
    "normalizer.inverse_transform(training_set_scaled)"
   ]
  },
  {
   "cell_type": "code",
   "execution_count": null,
   "id": "5ec9832a",
   "metadata": {},
   "outputs": [],
   "source": [
    "training_set"
   ]
  },
  {
   "cell_type": "code",
   "execution_count": null,
   "id": "6d0bb99b",
   "metadata": {},
   "outputs": [],
   "source": [
    "len(training_set_scaled)"
   ]
  },
  {
   "cell_type": "code",
   "execution_count": null,
   "id": "3b33f1d7",
   "metadata": {},
   "outputs": [],
   "source": [
    "training_set_scaled[0:60, 0]"
   ]
  },
  {
   "cell_type": "code",
   "execution_count": null,
   "id": "05e5c8bd",
   "metadata": {},
   "outputs": [],
   "source": [
    "training_set_scaled[60]"
   ]
  },
  {
   "cell_type": "code",
   "execution_count": null,
   "id": "fc03d8c9",
   "metadata": {},
   "outputs": [],
   "source": [
    "X_train = []"
   ]
  },
  {
   "cell_type": "code",
   "execution_count": null,
   "id": "7822ef42",
   "metadata": {},
   "outputs": [],
   "source": [
    "y_train = []"
   ]
  },
  {
   "cell_type": "code",
   "execution_count": null,
   "id": "abdceeb8",
   "metadata": {},
   "outputs": [],
   "source": [
    "steps =  60"
   ]
  },
  {
   "cell_type": "code",
   "execution_count": null,
   "id": "c2ae7490",
   "metadata": {},
   "outputs": [],
   "source": [
    "#here we created a loop to split same data into training, here first 0 to 60 data is in xtrain and next 60th is in ytrain\n",
    "for i in range(len(training_set_scaled) - steps ):\n",
    "    X_train.append(training_set_scaled[i:i+steps, 0])\n",
    "    y_train.append(training_set_scaled[i+steps, 0 ])"
   ]
  },
  {
   "cell_type": "code",
   "execution_count": null,
   "id": "72a3d423",
   "metadata": {},
   "outputs": [],
   "source": [
    "import numpy as np\n",
    "X_train_arr = np.array(X_train)"
   ]
  },
  {
   "cell_type": "code",
   "execution_count": null,
   "id": "b2143fbd",
   "metadata": {},
   "outputs": [],
   "source": [
    "X_train_arr.shape"
   ]
  },
  {
   "cell_type": "code",
   "execution_count": null,
   "id": "74c637ef",
   "metadata": {},
   "outputs": [],
   "source": [
    "X_train_arr.shape"
   ]
  },
  {
   "cell_type": "code",
   "execution_count": null,
   "id": "a59ec7ec",
   "metadata": {},
   "outputs": [],
   "source": [
    "# to reshape xtrain \n",
    "X_train_final = np.reshape(X_train, (1198, 60, 1)  )"
   ]
  },
  {
   "cell_type": "code",
   "execution_count": null,
   "id": "dbd98c79",
   "metadata": {},
   "outputs": [],
   "source": [
    "X_train_final.shape"
   ]
  },
  {
   "cell_type": "code",
   "execution_count": null,
   "id": "c9c73d1f",
   "metadata": {},
   "outputs": [],
   "source": [
    "y_train_arr = np.array(y_train)"
   ]
  },
  {
   "cell_type": "code",
   "execution_count": null,
   "id": "418e6242",
   "metadata": {},
   "outputs": [],
   "source": [
    "y_train_arr.shape"
   ]
  },
  {
   "cell_type": "code",
   "execution_count": null,
   "id": "edce8fe6",
   "metadata": {},
   "outputs": [],
   "source": [
    "# using Sequential  function we are Training our model\n",
    "from keras.models import Sequential"
   ]
  },
  {
   "cell_type": "code",
   "execution_count": null,
   "id": "d19d457f",
   "metadata": {},
   "outputs": [],
   "source": [
    "model = Sequential()"
   ]
  },
  {
   "cell_type": "code",
   "execution_count": null,
   "id": "391bcece",
   "metadata": {},
   "outputs": [],
   "source": [
    "#dense layer to read the edges of image and minimizing a dimension.\n",
    "from keras.layers  import Dense"
   ]
  },
  {
   "cell_type": "code",
   "execution_count": null,
   "id": "b917b4d1",
   "metadata": {},
   "outputs": [],
   "source": [
    "from  keras.layers import LSTM"
   ]
  },
  {
   "cell_type": "code",
   "execution_count": null,
   "id": "4655f447",
   "metadata": {},
   "outputs": [],
   "source": [
    "model.add( LSTM( units=60 , return_sequences=True , input_shape= (60, 1)))"
   ]
  },
  {
   "cell_type": "code",
   "execution_count": null,
   "id": "11542fbd",
   "metadata": {},
   "outputs": [],
   "source": [
    "model.get_config()"
   ]
  },
  {
   "cell_type": "code",
   "execution_count": null,
   "id": "67b93f27",
   "metadata": {},
   "outputs": [],
   "source": [
    "model.add( LSTM( units=60  , return_sequences=True ))"
   ]
  },
  {
   "cell_type": "code",
   "execution_count": null,
   "id": "9037b21c",
   "metadata": {},
   "outputs": [],
   "source": [
    "model.add( LSTM( units=60 ))"
   ]
  },
  {
   "cell_type": "code",
   "execution_count": null,
   "id": "35700930",
   "metadata": {},
   "outputs": [],
   "source": [
    "model.add( Dense( units=1, activation='linear') )"
   ]
  },
  {
   "cell_type": "code",
   "execution_count": null,
   "id": "d90a90bf",
   "metadata": {},
   "outputs": [],
   "source": [
    "#compiling the model using loss function and optimizer.\n",
    "model.compile(loss='mean_squared_error', optimizer='adam')"
   ]
  },
  {
   "cell_type": "code",
   "execution_count": null,
   "id": "7a989757",
   "metadata": {},
   "outputs": [],
   "source": [
    "#now time to fit the xtrain and ytrain data into a model\n",
    "model.fit(X_train_final , y_train_arr, epochs=100)"
   ]
  },
  {
   "cell_type": "code",
   "execution_count": null,
   "id": "19718d93",
   "metadata": {},
   "outputs": [],
   "source": [
    "#ploting loss function\n",
    "l = model.history.history[\"loss\"]"
   ]
  },
  {
   "cell_type": "code",
   "execution_count": null,
   "id": "55e76cfd",
   "metadata": {},
   "outputs": [],
   "source": [
    "import matplotlib.pyplot as plt"
   ]
  },
  {
   "cell_type": "code",
   "execution_count": null,
   "id": "387c47a4",
   "metadata": {},
   "outputs": [],
   "source": [
    "plt.plot(l)"
   ]
  },
  {
   "cell_type": "code",
   "execution_count": null,
   "id": "c9eb5513",
   "metadata": {},
   "outputs": [],
   "source": [
    "#predicting the \n",
    "predict = model.predict(X_train_final)"
   ]
  },
  {
   "cell_type": "code",
   "execution_count": null,
   "id": "57b19455",
   "metadata": {},
   "outputs": [],
   "source": [
    "predict\n"
   ]
  },
  {
   "cell_type": "code",
   "execution_count": null,
   "id": "2dda5df2",
   "metadata": {},
   "outputs": [],
   "source": [
    "plt.plot(y_train_arr)\n",
    "plt.plot(predict)"
   ]
  },
  {
   "cell_type": "code",
   "execution_count": null,
   "id": "4933b37c",
   "metadata": {},
   "outputs": [],
   "source": [
    "pdl =  pd.DataFrame(l)"
   ]
  },
  {
   "cell_type": "code",
   "execution_count": null,
   "id": "6b2b1d39",
   "metadata": {},
   "outputs": [],
   "source": [
    "pdl.plot()"
   ]
  },
  {
   "cell_type": "code",
   "execution_count": null,
   "id": "c94f6d4f",
   "metadata": {},
   "outputs": [],
   "source": []
  }
 ],
 "metadata": {
  "kernelspec": {
   "display_name": "Python 3 (ipykernel)",
   "language": "python",
   "name": "python3"
  },
  "language_info": {
   "codemirror_mode": {
    "name": "ipython",
    "version": 3
   },
   "file_extension": ".py",
   "mimetype": "text/x-python",
   "name": "python",
   "nbconvert_exporter": "python",
   "pygments_lexer": "ipython3",
   "version": "3.10.12"
  }
 },
 "nbformat": 4,
 "nbformat_minor": 5
}
